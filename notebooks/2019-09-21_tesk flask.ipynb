{
 "cells": [
  {
   "cell_type": "code",
   "execution_count": 9,
   "metadata": {},
   "outputs": [
    {
     "name": "stdout",
     "output_type": "stream",
     "text": [
      "[[5137, 'Position entails completing mental health claim forms monthly, tracking payments and interfacing with insurance companies regarding payments, etc.'], [5008, 'Build a website for an Afghan business'], [5685, 'Helping children 6-12 design a stage for a December 3 production.']]\n"
     ]
    }
   ],
   "source": [
    "import pymysql.cursors\n",
    "\n",
    "def get_summaries():\n",
    "    connection = pymysql.connect(host='127.0.0.1',\n",
    "                                 port=3306,\n",
    "                                 user='root',\n",
    "                                 password='password',\n",
    "                                 db='wherenext',\n",
    "                                 charset='utf8mb4',\n",
    "                                 cursorclass=pymysql.cursors.DictCursor)\n",
    "    try:\n",
    "        with connection.cursor() as cursor:\n",
    "            sql = \"\"\"SELECT opportunity_id, summary FROM opportunity WHERE summary IS NOT NULL;\"\"\"\n",
    "            cursor.execute(sql)\n",
    "            summaries = cursor.fetchall()\n",
    "            return [[s['opportunity_id'], s['summary']] for s in summaries]\n",
    "    finally:\n",
    "        connection.close()\n",
    "    \n",
    "summaries = get_summaries()\n",
    "print(summaries[:3])"
   ]
  },
  {
   "cell_type": "code",
   "execution_count": 36,
   "metadata": {},
   "outputs": [
    {
     "data": {
      "text/html": [
       "<div>\n",
       "<style scoped>\n",
       "    .dataframe tbody tr th:only-of-type {\n",
       "        vertical-align: middle;\n",
       "    }\n",
       "\n",
       "    .dataframe tbody tr th {\n",
       "        vertical-align: top;\n",
       "    }\n",
       "\n",
       "    .dataframe thead th {\n",
       "        text-align: right;\n",
       "    }\n",
       "</style>\n",
       "<table border=\"1\" class=\"dataframe\">\n",
       "  <thead>\n",
       "    <tr style=\"text-align: right;\">\n",
       "      <th></th>\n",
       "      <th>0</th>\n",
       "      <th>1</th>\n",
       "    </tr>\n",
       "  </thead>\n",
       "  <tbody>\n",
       "    <tr>\n",
       "      <th>0</th>\n",
       "      <td>5137</td>\n",
       "      <td>Position entails completing mental health clai...</td>\n",
       "    </tr>\n",
       "    <tr>\n",
       "      <th>1</th>\n",
       "      <td>5008</td>\n",
       "      <td>Build a website for an Afghan business</td>\n",
       "    </tr>\n",
       "  </tbody>\n",
       "</table>\n",
       "</div>"
      ],
      "text/plain": [
       "      0                                                  1\n",
       "0  5137  Position entails completing mental health clai...\n",
       "1  5008             Build a website for an Afghan business"
      ]
     },
     "execution_count": 36,
     "metadata": {},
     "output_type": "execute_result"
    }
   ],
   "source": [
    "import pandas as pd\n",
    "summaries = get_summaries()\n",
    "summaries = pd.DataFrame(summaries)\n",
    "summaries.head(2)"
   ]
  },
  {
   "cell_type": "code",
   "execution_count": null,
   "metadata": {},
   "outputs": [],
   "source": [
    "# test flask\n",
    "import json\n",
    "import requests\n",
    "\n",
    "input1 = json.dumps(['neighborhood', 'community'])\n",
    "print('input:', input1) \n",
    "\n",
    "url1 = \"http://127.0.0.1:5000/api\"\n",
    "response = requests.post(url1, input1)\n",
    "print('response.status_code:', response.status_code)\n",
    "if response.status_code == 200:\n",
    "    print(response.text)"
   ]
  }
 ],
 "metadata": {
  "kernelspec": {
   "display_name": "flask-event-finder-eokNtq2i",
   "language": "python",
   "name": "flask-event-finder-eokntq2i"
  },
  "language_info": {
   "codemirror_mode": {
    "name": "ipython",
    "version": 3
   },
   "file_extension": ".py",
   "mimetype": "text/x-python",
   "name": "python",
   "nbconvert_exporter": "python",
   "pygments_lexer": "ipython3",
   "version": "3.7.3"
  }
 },
 "nbformat": 4,
 "nbformat_minor": 2
}
